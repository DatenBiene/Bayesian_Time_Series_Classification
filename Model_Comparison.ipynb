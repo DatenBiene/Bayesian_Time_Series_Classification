{
 "cells": [
  {
   "cell_type": "markdown",
   "metadata": {},
   "source": [
    "Here we compare the 3 methods we considered: KNN with Cross Validation, Bayesiean KNN and Bayesian HMM"
   ]
  },
  {
   "cell_type": "markdown",
   "metadata": {},
   "source": [
    "# Libraries"
   ]
  },
  {
   "cell_type": "code",
   "execution_count": 1,
   "metadata": {},
   "outputs": [],
   "source": [
    "import warnings\n",
    "warnings.filterwarnings(\"ignore\")"
   ]
  },
  {
   "cell_type": "code",
   "execution_count": 2,
   "metadata": {},
   "outputs": [],
   "source": [
    "import numpy as np\n",
    "import pandas as pd\n",
    "\n",
    "import matplotlib.pyplot as plt\n",
    "from mpl_toolkits.axes_grid1 import make_axes_locatable\n",
    "import seaborn as sns; sns.set()\n",
    "\n",
    "from scipy.spatial import distance\n",
    "from fastdtw import fastdtw\n",
    "\n",
    "from sktime.utils.load_data import load_from_tsfile_to_dataframe\n",
    "\n",
    "from sklearn.model_selection import GridSearchCV"
   ]
  },
  {
   "cell_type": "code",
   "execution_count": 3,
   "metadata": {
    "scrolled": true
   },
   "outputs": [],
   "source": [
    "from sktime.classifiers.distance_based import KNeighborsTimeSeriesClassifier\n",
    "from Bayesian_knn.BayKNN import BayesianNeighborsTimeSeriesClassifier"
   ]
  },
  {
   "cell_type": "markdown",
   "metadata": {},
   "source": [
    "# ECG200"
   ]
  },
  {
   "cell_type": "code",
   "execution_count": 4,
   "metadata": {},
   "outputs": [],
   "source": [
    "X_train, y_train = load_from_tsfile_to_dataframe('data/ECG200/ECG200_TRAIN.ts')\n",
    "X_test, y_test = load_from_tsfile_to_dataframe('data/ECG200/ECG200_TEST.ts')"
   ]
  },
  {
   "cell_type": "markdown",
   "metadata": {},
   "source": [
    "### KNN"
   ]
  },
  {
   "cell_type": "code",
   "execution_count": 5,
   "metadata": {},
   "outputs": [
    {
     "name": "stdout",
     "output_type": "stream",
     "text": [
      "Wall time: 3.77 s\n"
     ]
    },
    {
     "data": {
      "text/plain": [
       "0.72"
      ]
     },
     "execution_count": 5,
     "metadata": {},
     "output_type": "execute_result"
    }
   ],
   "source": [
    "%%time\n",
    "clf_knn = KNeighborsTimeSeriesClassifier()\n",
    "parameters = {'n_neighbors':[2,3,4,5,10]}\n",
    "\n",
    "knn_grid = GridSearchCV(clf_knn , parameters)\n",
    "knn_grid.fit(X_train, y_train)\n",
    "knn_grid.best_params_['n_neighbors']\n",
    "\n",
    "k_opt = knn_grid.best_params_['n_neighbors']\n",
    "\n",
    "clf_knn = KNeighborsTimeSeriesClassifier(n_neighbors=k_opt, metric='dtw')\n",
    "clf_knn.fit(X_train, y_train) \n",
    "accu_knn = clf_knn.score(X_test, y_test)\n",
    "accu_knn"
   ]
  },
  {
   "cell_type": "markdown",
   "metadata": {},
   "source": [
    "### Bayesian KNN"
   ]
  },
  {
   "cell_type": "code",
   "execution_count": 6,
   "metadata": {},
   "outputs": [
    {
     "name": "stdout",
     "output_type": "stream",
     "text": [
      "Wall time: 2.91 s\n"
     ]
    },
    {
     "data": {
      "text/plain": [
       "0.84"
      ]
     },
     "execution_count": 6,
     "metadata": {},
     "output_type": "execute_result"
    }
   ],
   "source": [
    "%%time\n",
    "clf_bknn = BayesianNeighborsTimeSeriesClassifier(metric='dtw', p_gamma = 1/8, n_neighbors_bayes=77)\n",
    "clf_bknn.fit(X_train, y_train)\n",
    "accu_bknn = clf_bknn.score(X_test, y_test)\n",
    "accu_bknn"
   ]
  },
  {
   "cell_type": "markdown",
   "metadata": {},
   "source": [
    "# CricketX"
   ]
  },
  {
   "cell_type": "code",
   "execution_count": 7,
   "metadata": {},
   "outputs": [],
   "source": [
    "X_train, y_train = load_from_tsfile_to_dataframe('data/CricketX/CricketX_TRAIN.ts')\n",
    "X_test, y_test = load_from_tsfile_to_dataframe('data/CricketX/CricketX_TEST.ts')"
   ]
  },
  {
   "cell_type": "markdown",
   "metadata": {},
   "source": [
    "### KNN"
   ]
  },
  {
   "cell_type": "code",
   "execution_count": 8,
   "metadata": {},
   "outputs": [
    {
     "name": "stdout",
     "output_type": "stream",
     "text": [
      "Wall time: 15min 2s\n"
     ]
    },
    {
     "data": {
      "text/plain": [
       "0.7256410256410256"
      ]
     },
     "execution_count": 8,
     "metadata": {},
     "output_type": "execute_result"
    }
   ],
   "source": [
    "%%time\n",
    "clf_knn = KNeighborsTimeSeriesClassifier()\n",
    "parameters = {'n_neighbors':[2,3,4,5,10]}\n",
    "\n",
    "knn_grid = GridSearchCV(clf_knn , parameters)\n",
    "knn_grid.fit(X_train, y_train)\n",
    "knn_grid.best_params_['n_neighbors']\n",
    "\n",
    "k_opt = knn_grid.best_params_['n_neighbors']\n",
    "\n",
    "clf_knn = KNeighborsTimeSeriesClassifier(n_neighbors=k_opt, metric='dtw')\n",
    "clf_knn.fit(X_train, y_train) \n",
    "accu_knn = clf_knn.score(X_test, y_test)\n",
    "accu_knn"
   ]
  },
  {
   "cell_type": "markdown",
   "metadata": {},
   "source": [
    "### Bayesian KNN"
   ]
  },
  {
   "cell_type": "code",
   "execution_count": 9,
   "metadata": {},
   "outputs": [
    {
     "name": "stdout",
     "output_type": "stream",
     "text": [
      "Wall time: 6min 16s\n"
     ]
    },
    {
     "data": {
      "text/plain": [
       "0.735897435897436"
      ]
     },
     "execution_count": 9,
     "metadata": {},
     "output_type": "execute_result"
    }
   ],
   "source": [
    "%%time\n",
    "clf_bknn = BayesianNeighborsTimeSeriesClassifier(metric='dtw', p_gamma = 1/8, n_neighbors_bayes=77)\n",
    "clf_bknn.fit(X_train, y_train)\n",
    "accu_bknn = clf_bknn.score(X_test, y_test)\n",
    "accu_bknn"
   ]
  },
  {
   "cell_type": "markdown",
   "metadata": {},
   "source": [
    "# Adiac"
   ]
  },
  {
   "cell_type": "code",
   "execution_count": 25,
   "metadata": {},
   "outputs": [],
   "source": [
    "X_train, y_train = load_from_tsfile_to_dataframe('data/Adiac/Adiac_TRAIN.ts')\n",
    "X_test, y_test = load_from_tsfile_to_dataframe('data/Adiac/Adiac_TEST.ts')"
   ]
  },
  {
   "cell_type": "markdown",
   "metadata": {},
   "source": [
    "### KNN"
   ]
  },
  {
   "cell_type": "code",
   "execution_count": 26,
   "metadata": {
    "scrolled": true
   },
   "outputs": [
    {
     "name": "stdout",
     "output_type": "stream",
     "text": [
      "Wall time: 1min 48s\n"
     ]
    },
    {
     "data": {
      "text/plain": [
       "0.5575447570332481"
      ]
     },
     "execution_count": 26,
     "metadata": {},
     "output_type": "execute_result"
    }
   ],
   "source": [
    "%%time\n",
    "clf_knn = KNeighborsTimeSeriesClassifier()\n",
    "parameters = {'n_neighbors':[2,3,4,5,10]}\n",
    "\n",
    "knn_grid = GridSearchCV(clf_knn , parameters)\n",
    "knn_grid.fit(X_train, y_train)\n",
    "knn_grid.best_params_['n_neighbors']\n",
    "\n",
    "k_opt = knn_grid.best_params_['n_neighbors']\n",
    "\n",
    "clf_knn = KNeighborsTimeSeriesClassifier(n_neighbors=k_opt, metric='dtw')\n",
    "clf_knn.fit(X_train, y_train) \n",
    "accu_knn = clf_knn.score(X_test, y_test)\n",
    "accu_knn"
   ]
  },
  {
   "cell_type": "markdown",
   "metadata": {},
   "source": [
    "### Bayesian KNN"
   ]
  },
  {
   "cell_type": "code",
   "execution_count": 31,
   "metadata": {},
   "outputs": [
    {
     "name": "stdout",
     "output_type": "stream",
     "text": [
      "Wall time: 50.7 s\n"
     ]
    },
    {
     "data": {
      "text/plain": [
       "0.5549872122762148"
      ]
     },
     "execution_count": 31,
     "metadata": {},
     "output_type": "execute_result"
    }
   ],
   "source": [
    "%%time\n",
    "clf_bknn = BayesianNeighborsTimeSeriesClassifier(metric='dtw', p_gamma = 1/8)\n",
    "clf_bknn.fit(X_train, y_train)\n",
    "accu_bknn = clf_bknn.score(X_test, y_test)\n",
    "accu_bknn"
   ]
  },
  {
   "cell_type": "markdown",
   "metadata": {},
   "source": [
    "# Epilepsy"
   ]
  },
  {
   "cell_type": "code",
   "execution_count": 68,
   "metadata": {
    "scrolled": true
   },
   "outputs": [],
   "source": [
    "X_train, y_train = load_from_tsfile_to_dataframe('data/Epilepsy/Epilepsy_TRAIN.ts')\n",
    "X_test, y_test = load_from_tsfile_to_dataframe('data/Epilepsy/Epilepsy_TEST.ts')\n",
    "\n",
    "X_train = X_train[['dim_0']]\n",
    "X_test = X_test[['dim_0']]"
   ]
  },
  {
   "cell_type": "markdown",
   "metadata": {},
   "source": [
    "### KNN"
   ]
  },
  {
   "cell_type": "code",
   "execution_count": 14,
   "metadata": {},
   "outputs": [
    {
     "name": "stdout",
     "output_type": "stream",
     "text": [
      "Wall time: 27 s\n"
     ]
    },
    {
     "data": {
      "text/plain": [
       "0.9565217391304348"
      ]
     },
     "execution_count": 14,
     "metadata": {},
     "output_type": "execute_result"
    }
   ],
   "source": [
    "%%time\n",
    "clf_knn = KNeighborsTimeSeriesClassifier()\n",
    "parameters = {'n_neighbors':[2,3,4,5,10]}\n",
    "\n",
    "knn_grid = GridSearchCV(clf_knn , parameters)\n",
    "knn_grid.fit(X_train, y_train)\n",
    "knn_grid.best_params_['n_neighbors']\n",
    "\n",
    "k_opt = knn_grid.best_params_['n_neighbors']\n",
    "\n",
    "clf_knn = KNeighborsTimeSeriesClassifier(n_neighbors=k_opt, metric='dtw')\n",
    "clf_knn.fit(X_train, y_train) \n",
    "accu_knn = clf_knn.score(X_test, y_test)\n",
    "accu_knn"
   ]
  },
  {
   "cell_type": "markdown",
   "metadata": {},
   "source": [
    "### Bayesian KNN"
   ]
  },
  {
   "cell_type": "code",
   "execution_count": 15,
   "metadata": {},
   "outputs": [
    {
     "name": "stdout",
     "output_type": "stream",
     "text": [
      "Wall time: 13.2 s\n"
     ]
    },
    {
     "data": {
      "text/plain": [
       "0.9637681159420289"
      ]
     },
     "execution_count": 15,
     "metadata": {},
     "output_type": "execute_result"
    }
   ],
   "source": [
    "%%time\n",
    "clf_bknn = BayesianNeighborsTimeSeriesClassifier()\n",
    "clf_bknn.fit(X_train, y_train)\n",
    "accu_bknn = clf_bknn.score(X_test, y_test)\n",
    "accu_bknn"
   ]
  },
  {
   "cell_type": "markdown",
   "metadata": {},
   "source": [
    "# Sim1"
   ]
  },
  {
   "cell_type": "code",
   "execution_count": 4,
   "metadata": {},
   "outputs": [],
   "source": [
    "X_train = pd.read_csv('data/Simulated/Sim1_train.csv')\n",
    "y_train = X_train['Class'].ravel()\n",
    "X_train = X_train.drop(['Unnamed: 0', 'Class'], axis =1)\n",
    "X_train = X_train.fillna(0)\n",
    "X_train = pd.DataFrame([[X_train.iloc[i] ]for i in range(X_train.shape[0])])"
   ]
  },
  {
   "cell_type": "code",
   "execution_count": 5,
   "metadata": {
    "scrolled": true
   },
   "outputs": [],
   "source": [
    "X_test = pd.read_csv('data/Simulated/Sim1_test.csv')\n",
    "y_test = X_test['Class'].ravel()\n",
    "X_test = X_test.drop(['Unnamed: 0', 'Class'], axis =1)\n",
    "X_test = X_test.fillna(0)\n",
    "X_test = pd.DataFrame([[X_test.iloc[i] ]for i in range(X_test.shape[0])])"
   ]
  },
  {
   "cell_type": "markdown",
   "metadata": {},
   "source": [
    "### KNN"
   ]
  },
  {
   "cell_type": "code",
   "execution_count": 112,
   "metadata": {},
   "outputs": [
    {
     "name": "stdout",
     "output_type": "stream",
     "text": [
      "Wall time: 2.98 s\n"
     ]
    },
    {
     "data": {
      "text/plain": [
       "0.6744186046511628"
      ]
     },
     "execution_count": 112,
     "metadata": {},
     "output_type": "execute_result"
    }
   ],
   "source": [
    "%%time\n",
    "clf_knn = KNeighborsTimeSeriesClassifier()\n",
    "parameters = {'n_neighbors':[2,3,4,5,10]}\n",
    "\n",
    "knn_grid = GridSearchCV(clf_knn , parameters)\n",
    "knn_grid.fit(X_train, y_train)\n",
    "knn_grid.best_params_['n_neighbors']\n",
    "\n",
    "k_opt = knn_grid.best_params_['n_neighbors']\n",
    "\n",
    "clf_knn = KNeighborsTimeSeriesClassifier(n_neighbors=k_opt, metric='dtw')\n",
    "clf_knn.fit(X_train, y_train) \n",
    "accu_knn = clf_knn.score(X_test, y_test)\n",
    "accu_knn"
   ]
  },
  {
   "cell_type": "markdown",
   "metadata": {},
   "source": [
    "### Bayesian KNN"
   ]
  },
  {
   "cell_type": "code",
   "execution_count": 114,
   "metadata": {},
   "outputs": [
    {
     "name": "stdout",
     "output_type": "stream",
     "text": [
      "Wall time: 772 ms\n"
     ]
    },
    {
     "data": {
      "text/plain": [
       "0.6511627906976745"
      ]
     },
     "execution_count": 114,
     "metadata": {},
     "output_type": "execute_result"
    }
   ],
   "source": [
    "%%time\n",
    "clf_bknn = BayesianNeighborsTimeSeriesClassifier()\n",
    "clf_bknn.fit(X_train, y_train)\n",
    "accu_bknn = clf_bknn.score(X_test, y_test)\n",
    "accu_bknn"
   ]
  },
  {
   "cell_type": "markdown",
   "metadata": {},
   "source": [
    "# Sim2"
   ]
  },
  {
   "cell_type": "code",
   "execution_count": 19,
   "metadata": {},
   "outputs": [],
   "source": [
    "X_train = pd.read_csv('data/Simulated/Sim2_train.csv')\n",
    "y_train = X_train['Class'].ravel()\n",
    "X_train = X_train.drop(['Unnamed: 0', 'Class'], axis =1)\n",
    "X_train = X_train.fillna(0)\n",
    "X_train = pd.DataFrame([[X_train.iloc[i] ]for i in range(X_train.shape[0])])"
   ]
  },
  {
   "cell_type": "code",
   "execution_count": 20,
   "metadata": {},
   "outputs": [],
   "source": [
    "X_test = pd.read_csv('data/Simulated/Sim2_test.csv')\n",
    "y_test = X_test['Class'].ravel()\n",
    "X_test = X_test.drop(['Unnamed: 0', 'Class'], axis =1)\n",
    "X_test = X_test.fillna(0)\n",
    "X_test = pd.DataFrame([[X_test.iloc[i] ]for i in range(X_test.shape[0])])"
   ]
  },
  {
   "cell_type": "markdown",
   "metadata": {},
   "source": [
    "### KNN"
   ]
  },
  {
   "cell_type": "code",
   "execution_count": 21,
   "metadata": {},
   "outputs": [
    {
     "name": "stdout",
     "output_type": "stream",
     "text": [
      "Wall time: 5.06 s\n"
     ]
    },
    {
     "data": {
      "text/plain": [
       "0.5862068965517241"
      ]
     },
     "execution_count": 21,
     "metadata": {},
     "output_type": "execute_result"
    }
   ],
   "source": [
    "%%time\n",
    "clf_knn = KNeighborsTimeSeriesClassifier()\n",
    "parameters = {'n_neighbors':[2,3,4,5,10]}\n",
    "\n",
    "knn_grid = GridSearchCV(clf_knn , parameters)\n",
    "knn_grid.fit(X_train, y_train)\n",
    "knn_grid.best_params_['n_neighbors']\n",
    "\n",
    "k_opt = knn_grid.best_params_['n_neighbors']\n",
    "\n",
    "clf_knn = KNeighborsTimeSeriesClassifier(n_neighbors=k_opt, metric='dtw')\n",
    "clf_knn.fit(X_train, y_train) \n",
    "accu_knn = clf_knn.score(X_test, y_test)\n",
    "accu_knn"
   ]
  },
  {
   "cell_type": "markdown",
   "metadata": {},
   "source": [
    "### Bayesian KNN"
   ]
  },
  {
   "cell_type": "code",
   "execution_count": 22,
   "metadata": {},
   "outputs": [
    {
     "name": "stdout",
     "output_type": "stream",
     "text": [
      "Wall time: 2.52 s\n"
     ]
    },
    {
     "data": {
      "text/plain": [
       "0.5517241379310345"
      ]
     },
     "execution_count": 22,
     "metadata": {},
     "output_type": "execute_result"
    }
   ],
   "source": [
    "%%time\n",
    "clf_bknn = BayesianNeighborsTimeSeriesClassifier()\n",
    "clf_bknn.fit(X_train, y_train)\n",
    "accu_bknn = clf_bknn.score(X_test, y_test)\n",
    "accu_bknn"
   ]
  }
 ],
 "metadata": {
  "kernelspec": {
   "display_name": "Python 3",
   "language": "python",
   "name": "python3"
  },
  "language_info": {
   "codemirror_mode": {
    "name": "ipython",
    "version": 3
   },
   "file_extension": ".py",
   "mimetype": "text/x-python",
   "name": "python",
   "nbconvert_exporter": "python",
   "pygments_lexer": "ipython3",
   "version": "3.7.4"
  }
 },
 "nbformat": 4,
 "nbformat_minor": 2
}
