{
 "cells": [
  {
   "cell_type": "markdown",
   "metadata": {},
   "source": [
    "Here we compare the 3 methods we considered: KNN with Cross Validation, Bayesiean KNN and Bayesian HMM"
   ]
  },
  {
   "cell_type": "code",
   "execution_count": 1,
   "metadata": {},
   "outputs": [],
   "source": [
    "import pandas as pd\n",
    "from sklearn.model_selection import train_test_split"
   ]
  },
  {
   "cell_type": "code",
   "execution_count": 15,
   "metadata": {
    "scrolled": true
   },
   "outputs": [],
   "source": [
    "X = pd.read_csv(\"data/Simulated/Sim1_TRAIN.csv\")"
   ]
  },
  {
   "cell_type": "code",
   "execution_count": 16,
   "metadata": {
    "scrolled": true
   },
   "outputs": [],
   "source": [
    "X = X.drop(['Unnamed: 0', 'Class'], axis = 1)\n",
    "y = X['Class'].ravel()"
   ]
  },
  {
   "cell_type": "code",
   "execution_count": 14,
   "metadata": {},
   "outputs": [],
   "source": []
  },
  {
   "cell_type": "code",
   "execution_count": null,
   "metadata": {},
   "outputs": [],
   "source": [
    "y = X['Class'].ravel()"
   ]
  },
  {
   "cell_type": "code",
   "execution_count": 3,
   "metadata": {},
   "outputs": [
    {
     "data": {
      "text/html": [
       "<div>\n",
       "<style scoped>\n",
       "    .dataframe tbody tr th:only-of-type {\n",
       "        vertical-align: middle;\n",
       "    }\n",
       "\n",
       "    .dataframe tbody tr th {\n",
       "        vertical-align: top;\n",
       "    }\n",
       "\n",
       "    .dataframe thead th {\n",
       "        text-align: right;\n",
       "    }\n",
       "</style>\n",
       "<table border=\"1\" class=\"dataframe\">\n",
       "  <thead>\n",
       "    <tr style=\"text-align: right;\">\n",
       "      <th></th>\n",
       "      <th>Unnamed: 0</th>\n",
       "      <th>Class</th>\n",
       "      <th>1</th>\n",
       "      <th>2</th>\n",
       "      <th>3</th>\n",
       "      <th>4</th>\n",
       "      <th>5</th>\n",
       "      <th>6</th>\n",
       "      <th>7</th>\n",
       "      <th>8</th>\n",
       "      <th>...</th>\n",
       "      <th>91</th>\n",
       "      <th>92</th>\n",
       "      <th>93</th>\n",
       "      <th>94</th>\n",
       "      <th>95</th>\n",
       "      <th>96</th>\n",
       "      <th>97</th>\n",
       "      <th>98</th>\n",
       "      <th>99</th>\n",
       "      <th>100</th>\n",
       "    </tr>\n",
       "  </thead>\n",
       "  <tbody>\n",
       "    <tr>\n",
       "      <td>0</td>\n",
       "      <td>0</td>\n",
       "      <td>1.0</td>\n",
       "      <td>0.680209</td>\n",
       "      <td>1.769072</td>\n",
       "      <td>1.839531</td>\n",
       "      <td>0.303935</td>\n",
       "      <td>0.846108</td>\n",
       "      <td>1.264109</td>\n",
       "      <td>3.097885</td>\n",
       "      <td>1.139095</td>\n",
       "      <td>...</td>\n",
       "      <td>NaN</td>\n",
       "      <td>NaN</td>\n",
       "      <td>NaN</td>\n",
       "      <td>NaN</td>\n",
       "      <td>NaN</td>\n",
       "      <td>NaN</td>\n",
       "      <td>NaN</td>\n",
       "      <td>NaN</td>\n",
       "      <td>NaN</td>\n",
       "      <td>NaN</td>\n",
       "    </tr>\n",
       "    <tr>\n",
       "      <td>1</td>\n",
       "      <td>1</td>\n",
       "      <td>1.0</td>\n",
       "      <td>1.156355</td>\n",
       "      <td>0.271751</td>\n",
       "      <td>2.432090</td>\n",
       "      <td>-0.700674</td>\n",
       "      <td>1.337759</td>\n",
       "      <td>1.943599</td>\n",
       "      <td>1.444385</td>\n",
       "      <td>0.955934</td>\n",
       "      <td>...</td>\n",
       "      <td>NaN</td>\n",
       "      <td>NaN</td>\n",
       "      <td>NaN</td>\n",
       "      <td>NaN</td>\n",
       "      <td>NaN</td>\n",
       "      <td>NaN</td>\n",
       "      <td>NaN</td>\n",
       "      <td>NaN</td>\n",
       "      <td>NaN</td>\n",
       "      <td>NaN</td>\n",
       "    </tr>\n",
       "    <tr>\n",
       "      <td>2</td>\n",
       "      <td>2</td>\n",
       "      <td>1.0</td>\n",
       "      <td>1.021731</td>\n",
       "      <td>5.561954</td>\n",
       "      <td>0.635894</td>\n",
       "      <td>1.759012</td>\n",
       "      <td>-0.824061</td>\n",
       "      <td>-1.602333</td>\n",
       "      <td>0.345564</td>\n",
       "      <td>5.187294</td>\n",
       "      <td>...</td>\n",
       "      <td>0.980528</td>\n",
       "      <td>-0.355512</td>\n",
       "      <td>0.172391</td>\n",
       "      <td>1.211953</td>\n",
       "      <td>1.347755</td>\n",
       "      <td>NaN</td>\n",
       "      <td>NaN</td>\n",
       "      <td>NaN</td>\n",
       "      <td>NaN</td>\n",
       "      <td>NaN</td>\n",
       "    </tr>\n",
       "    <tr>\n",
       "      <td>3</td>\n",
       "      <td>3</td>\n",
       "      <td>1.0</td>\n",
       "      <td>2.078721</td>\n",
       "      <td>0.831572</td>\n",
       "      <td>4.718340</td>\n",
       "      <td>-0.940918</td>\n",
       "      <td>0.974667</td>\n",
       "      <td>-0.632023</td>\n",
       "      <td>-1.224321</td>\n",
       "      <td>1.966872</td>\n",
       "      <td>...</td>\n",
       "      <td>NaN</td>\n",
       "      <td>NaN</td>\n",
       "      <td>NaN</td>\n",
       "      <td>NaN</td>\n",
       "      <td>NaN</td>\n",
       "      <td>NaN</td>\n",
       "      <td>NaN</td>\n",
       "      <td>NaN</td>\n",
       "      <td>NaN</td>\n",
       "      <td>NaN</td>\n",
       "    </tr>\n",
       "    <tr>\n",
       "      <td>4</td>\n",
       "      <td>4</td>\n",
       "      <td>1.0</td>\n",
       "      <td>0.654866</td>\n",
       "      <td>-0.427305</td>\n",
       "      <td>3.738773</td>\n",
       "      <td>5.490246</td>\n",
       "      <td>0.569505</td>\n",
       "      <td>3.456690</td>\n",
       "      <td>0.673731</td>\n",
       "      <td>0.915014</td>\n",
       "      <td>...</td>\n",
       "      <td>NaN</td>\n",
       "      <td>NaN</td>\n",
       "      <td>NaN</td>\n",
       "      <td>NaN</td>\n",
       "      <td>NaN</td>\n",
       "      <td>NaN</td>\n",
       "      <td>NaN</td>\n",
       "      <td>NaN</td>\n",
       "      <td>NaN</td>\n",
       "      <td>NaN</td>\n",
       "    </tr>\n",
       "    <tr>\n",
       "      <td>...</td>\n",
       "      <td>...</td>\n",
       "      <td>...</td>\n",
       "      <td>...</td>\n",
       "      <td>...</td>\n",
       "      <td>...</td>\n",
       "      <td>...</td>\n",
       "      <td>...</td>\n",
       "      <td>...</td>\n",
       "      <td>...</td>\n",
       "      <td>...</td>\n",
       "      <td>...</td>\n",
       "      <td>...</td>\n",
       "      <td>...</td>\n",
       "      <td>...</td>\n",
       "      <td>...</td>\n",
       "      <td>...</td>\n",
       "      <td>...</td>\n",
       "      <td>...</td>\n",
       "      <td>...</td>\n",
       "      <td>...</td>\n",
       "      <td>...</td>\n",
       "    </tr>\n",
       "    <tr>\n",
       "      <td>170</td>\n",
       "      <td>170</td>\n",
       "      <td>3.0</td>\n",
       "      <td>3.596332</td>\n",
       "      <td>-0.111900</td>\n",
       "      <td>4.676917</td>\n",
       "      <td>6.986664</td>\n",
       "      <td>0.179835</td>\n",
       "      <td>2.095270</td>\n",
       "      <td>4.740849</td>\n",
       "      <td>5.424898</td>\n",
       "      <td>...</td>\n",
       "      <td>NaN</td>\n",
       "      <td>NaN</td>\n",
       "      <td>NaN</td>\n",
       "      <td>NaN</td>\n",
       "      <td>NaN</td>\n",
       "      <td>NaN</td>\n",
       "      <td>NaN</td>\n",
       "      <td>NaN</td>\n",
       "      <td>NaN</td>\n",
       "      <td>NaN</td>\n",
       "    </tr>\n",
       "    <tr>\n",
       "      <td>171</td>\n",
       "      <td>171</td>\n",
       "      <td>3.0</td>\n",
       "      <td>2.860724</td>\n",
       "      <td>6.327009</td>\n",
       "      <td>3.781958</td>\n",
       "      <td>2.511968</td>\n",
       "      <td>-3.678456</td>\n",
       "      <td>2.103612</td>\n",
       "      <td>3.744833</td>\n",
       "      <td>-0.506475</td>\n",
       "      <td>...</td>\n",
       "      <td>NaN</td>\n",
       "      <td>NaN</td>\n",
       "      <td>NaN</td>\n",
       "      <td>NaN</td>\n",
       "      <td>NaN</td>\n",
       "      <td>NaN</td>\n",
       "      <td>NaN</td>\n",
       "      <td>NaN</td>\n",
       "      <td>NaN</td>\n",
       "      <td>NaN</td>\n",
       "    </tr>\n",
       "    <tr>\n",
       "      <td>172</td>\n",
       "      <td>172</td>\n",
       "      <td>3.0</td>\n",
       "      <td>0.701268</td>\n",
       "      <td>5.760644</td>\n",
       "      <td>-1.597493</td>\n",
       "      <td>1.204715</td>\n",
       "      <td>2.923035</td>\n",
       "      <td>1.704072</td>\n",
       "      <td>-0.824284</td>\n",
       "      <td>6.364715</td>\n",
       "      <td>...</td>\n",
       "      <td>NaN</td>\n",
       "      <td>NaN</td>\n",
       "      <td>NaN</td>\n",
       "      <td>NaN</td>\n",
       "      <td>NaN</td>\n",
       "      <td>NaN</td>\n",
       "      <td>NaN</td>\n",
       "      <td>NaN</td>\n",
       "      <td>NaN</td>\n",
       "      <td>NaN</td>\n",
       "    </tr>\n",
       "    <tr>\n",
       "      <td>173</td>\n",
       "      <td>173</td>\n",
       "      <td>3.0</td>\n",
       "      <td>1.958003</td>\n",
       "      <td>0.748284</td>\n",
       "      <td>5.358676</td>\n",
       "      <td>1.191271</td>\n",
       "      <td>1.435356</td>\n",
       "      <td>2.866154</td>\n",
       "      <td>4.645640</td>\n",
       "      <td>-3.183832</td>\n",
       "      <td>...</td>\n",
       "      <td>NaN</td>\n",
       "      <td>NaN</td>\n",
       "      <td>NaN</td>\n",
       "      <td>NaN</td>\n",
       "      <td>NaN</td>\n",
       "      <td>NaN</td>\n",
       "      <td>NaN</td>\n",
       "      <td>NaN</td>\n",
       "      <td>NaN</td>\n",
       "      <td>NaN</td>\n",
       "    </tr>\n",
       "    <tr>\n",
       "      <td>174</td>\n",
       "      <td>174</td>\n",
       "      <td>3.0</td>\n",
       "      <td>3.082232</td>\n",
       "      <td>3.535656</td>\n",
       "      <td>0.084355</td>\n",
       "      <td>-1.517868</td>\n",
       "      <td>4.361254</td>\n",
       "      <td>2.630050</td>\n",
       "      <td>-0.915722</td>\n",
       "      <td>2.937882</td>\n",
       "      <td>...</td>\n",
       "      <td>NaN</td>\n",
       "      <td>NaN</td>\n",
       "      <td>NaN</td>\n",
       "      <td>NaN</td>\n",
       "      <td>NaN</td>\n",
       "      <td>NaN</td>\n",
       "      <td>NaN</td>\n",
       "      <td>NaN</td>\n",
       "      <td>NaN</td>\n",
       "      <td>NaN</td>\n",
       "    </tr>\n",
       "  </tbody>\n",
       "</table>\n",
       "<p>175 rows × 102 columns</p>\n",
       "</div>"
      ],
      "text/plain": [
       "     Unnamed: 0  Class         1         2         3         4         5  \\\n",
       "0             0    1.0  0.680209  1.769072  1.839531  0.303935  0.846108   \n",
       "1             1    1.0  1.156355  0.271751  2.432090 -0.700674  1.337759   \n",
       "2             2    1.0  1.021731  5.561954  0.635894  1.759012 -0.824061   \n",
       "3             3    1.0  2.078721  0.831572  4.718340 -0.940918  0.974667   \n",
       "4             4    1.0  0.654866 -0.427305  3.738773  5.490246  0.569505   \n",
       "..          ...    ...       ...       ...       ...       ...       ...   \n",
       "170         170    3.0  3.596332 -0.111900  4.676917  6.986664  0.179835   \n",
       "171         171    3.0  2.860724  6.327009  3.781958  2.511968 -3.678456   \n",
       "172         172    3.0  0.701268  5.760644 -1.597493  1.204715  2.923035   \n",
       "173         173    3.0  1.958003  0.748284  5.358676  1.191271  1.435356   \n",
       "174         174    3.0  3.082232  3.535656  0.084355 -1.517868  4.361254   \n",
       "\n",
       "            6         7         8  ...        91        92        93  \\\n",
       "0    1.264109  3.097885  1.139095  ...       NaN       NaN       NaN   \n",
       "1    1.943599  1.444385  0.955934  ...       NaN       NaN       NaN   \n",
       "2   -1.602333  0.345564  5.187294  ...  0.980528 -0.355512  0.172391   \n",
       "3   -0.632023 -1.224321  1.966872  ...       NaN       NaN       NaN   \n",
       "4    3.456690  0.673731  0.915014  ...       NaN       NaN       NaN   \n",
       "..        ...       ...       ...  ...       ...       ...       ...   \n",
       "170  2.095270  4.740849  5.424898  ...       NaN       NaN       NaN   \n",
       "171  2.103612  3.744833 -0.506475  ...       NaN       NaN       NaN   \n",
       "172  1.704072 -0.824284  6.364715  ...       NaN       NaN       NaN   \n",
       "173  2.866154  4.645640 -3.183832  ...       NaN       NaN       NaN   \n",
       "174  2.630050 -0.915722  2.937882  ...       NaN       NaN       NaN   \n",
       "\n",
       "           94        95  96  97  98  99  100  \n",
       "0         NaN       NaN NaN NaN NaN NaN  NaN  \n",
       "1         NaN       NaN NaN NaN NaN NaN  NaN  \n",
       "2    1.211953  1.347755 NaN NaN NaN NaN  NaN  \n",
       "3         NaN       NaN NaN NaN NaN NaN  NaN  \n",
       "4         NaN       NaN NaN NaN NaN NaN  NaN  \n",
       "..        ...       ...  ..  ..  ..  ..  ...  \n",
       "170       NaN       NaN NaN NaN NaN NaN  NaN  \n",
       "171       NaN       NaN NaN NaN NaN NaN  NaN  \n",
       "172       NaN       NaN NaN NaN NaN NaN  NaN  \n",
       "173       NaN       NaN NaN NaN NaN NaN  NaN  \n",
       "174       NaN       NaN NaN NaN NaN NaN  NaN  \n",
       "\n",
       "[175 rows x 102 columns]"
      ]
     },
     "execution_count": 3,
     "metadata": {},
     "output_type": "execute_result"
    }
   ],
   "source": [
    "pd.read_csv(\"data/Simulated/Sim2_TRAIN.csv\")"
   ]
  },
  {
   "cell_type": "code",
   "execution_count": null,
   "metadata": {},
   "outputs": [],
   "source": [
    "X_train, X_test, y_train, y_test = train_test_split(X, y, test_size=0.33, random_state=42)"
   ]
  },
  {
   "cell_type": "markdown",
   "metadata": {},
   "source": [
    "# Libraries"
   ]
  },
  {
   "cell_type": "code",
   "execution_count": 1,
   "metadata": {},
   "outputs": [],
   "source": [
    "import warnings\n",
    "warnings.filterwarnings(\"ignore\")"
   ]
  },
  {
   "cell_type": "code",
   "execution_count": 2,
   "metadata": {},
   "outputs": [],
   "source": [
    "import numpy as np\n",
    "import pandas as pd\n",
    "\n",
    "import matplotlib.pyplot as plt\n",
    "from mpl_toolkits.axes_grid1 import make_axes_locatable\n",
    "import seaborn as sns; sns.set()\n",
    "\n",
    "from scipy.spatial import distance\n",
    "from fastdtw import fastdtw\n",
    "\n",
    "from sktime.utils.load_data import load_from_tsfile_to_dataframe\n",
    "\n",
    "from sklearn.model_selection import GridSearchCV"
   ]
  },
  {
   "cell_type": "code",
   "execution_count": 3,
   "metadata": {
    "scrolled": true
   },
   "outputs": [],
   "source": [
    "from sktime.classifiers.distance_based import KNeighborsTimeSeriesClassifier\n",
    "from Bayesian_knn.BayKNN import BayesianNeighborsTimeSeriesClassifier"
   ]
  },
  {
   "cell_type": "markdown",
   "metadata": {},
   "source": [
    "# ECG200"
   ]
  },
  {
   "cell_type": "code",
   "execution_count": 4,
   "metadata": {},
   "outputs": [],
   "source": [
    "X_train, y_train = load_from_tsfile_to_dataframe('data/ECG200/ECG200_TRAIN.ts')\n",
    "X_test, y_test = load_from_tsfile_to_dataframe('data/ECG200/ECG200_TEST.ts')"
   ]
  },
  {
   "cell_type": "markdown",
   "metadata": {},
   "source": [
    "### KNN"
   ]
  },
  {
   "cell_type": "code",
   "execution_count": 5,
   "metadata": {},
   "outputs": [
    {
     "name": "stdout",
     "output_type": "stream",
     "text": [
      "Wall time: 3.77 s\n"
     ]
    },
    {
     "data": {
      "text/plain": [
       "0.72"
      ]
     },
     "execution_count": 5,
     "metadata": {},
     "output_type": "execute_result"
    }
   ],
   "source": [
    "%%time\n",
    "clf_knn = KNeighborsTimeSeriesClassifier()\n",
    "parameters = {'n_neighbors':[2,3,4,5,10]}\n",
    "\n",
    "knn_grid = GridSearchCV(clf_knn , parameters)\n",
    "knn_grid.fit(X_train, y_train)\n",
    "knn_grid.best_params_['n_neighbors']\n",
    "\n",
    "k_opt = knn_grid.best_params_['n_neighbors']\n",
    "\n",
    "clf_knn = KNeighborsTimeSeriesClassifier(n_neighbors=k_opt, metric='dtw')\n",
    "clf_knn.fit(X_train, y_train) \n",
    "accu_knn = clf_knn.score(X_test, y_test)\n",
    "accu_knn"
   ]
  },
  {
   "cell_type": "markdown",
   "metadata": {},
   "source": [
    "### Bayesian KNN"
   ]
  },
  {
   "cell_type": "code",
   "execution_count": 6,
   "metadata": {},
   "outputs": [
    {
     "name": "stdout",
     "output_type": "stream",
     "text": [
      "Wall time: 2.91 s\n"
     ]
    },
    {
     "data": {
      "text/plain": [
       "0.84"
      ]
     },
     "execution_count": 6,
     "metadata": {},
     "output_type": "execute_result"
    }
   ],
   "source": [
    "%%time\n",
    "clf_bknn = BayesianNeighborsTimeSeriesClassifier(metric='dtw', p_gamma = 1/8, n_neighbors_bayes=77)\n",
    "clf_bknn.fit(X_train, y_train)\n",
    "accu_bknn = clf_bknn.score(X_test, y_test)\n",
    "accu_bknn"
   ]
  },
  {
   "cell_type": "markdown",
   "metadata": {},
   "source": [
    "# CricketX"
   ]
  },
  {
   "cell_type": "code",
   "execution_count": 7,
   "metadata": {},
   "outputs": [],
   "source": [
    "X_train, y_train = load_from_tsfile_to_dataframe('data/CricketX/CricketX_TRAIN.ts')\n",
    "X_test, y_test = load_from_tsfile_to_dataframe('data/CricketX/CricketX_TEST.ts')"
   ]
  },
  {
   "cell_type": "markdown",
   "metadata": {},
   "source": [
    "### KNN"
   ]
  },
  {
   "cell_type": "code",
   "execution_count": 8,
   "metadata": {},
   "outputs": [
    {
     "name": "stdout",
     "output_type": "stream",
     "text": [
      "Wall time: 15min 2s\n"
     ]
    },
    {
     "data": {
      "text/plain": [
       "0.7256410256410256"
      ]
     },
     "execution_count": 8,
     "metadata": {},
     "output_type": "execute_result"
    }
   ],
   "source": [
    "%%time\n",
    "clf_knn = KNeighborsTimeSeriesClassifier()\n",
    "parameters = {'n_neighbors':[2,3,4,5,10]}\n",
    "\n",
    "knn_grid = GridSearchCV(clf_knn , parameters)\n",
    "knn_grid.fit(X_train, y_train)\n",
    "knn_grid.best_params_['n_neighbors']\n",
    "\n",
    "k_opt = knn_grid.best_params_['n_neighbors']\n",
    "\n",
    "clf_knn = KNeighborsTimeSeriesClassifier(n_neighbors=k_opt, metric='dtw')\n",
    "clf_knn.fit(X_train, y_train) \n",
    "accu_knn = clf_knn.score(X_test, y_test)\n",
    "accu_knn"
   ]
  },
  {
   "cell_type": "markdown",
   "metadata": {},
   "source": [
    "### Bayesian KNN"
   ]
  },
  {
   "cell_type": "code",
   "execution_count": 9,
   "metadata": {},
   "outputs": [
    {
     "name": "stdout",
     "output_type": "stream",
     "text": [
      "Wall time: 6min 16s\n"
     ]
    },
    {
     "data": {
      "text/plain": [
       "0.735897435897436"
      ]
     },
     "execution_count": 9,
     "metadata": {},
     "output_type": "execute_result"
    }
   ],
   "source": [
    "%%time\n",
    "clf_bknn = BayesianNeighborsTimeSeriesClassifier(metric='dtw', p_gamma = 1/8, n_neighbors_bayes=77)\n",
    "clf_bknn.fit(X_train, y_train)\n",
    "accu_bknn = clf_bknn.score(X_test, y_test)\n",
    "accu_bknn"
   ]
  },
  {
   "cell_type": "markdown",
   "metadata": {},
   "source": [
    "# Adiac"
   ]
  },
  {
   "cell_type": "code",
   "execution_count": 25,
   "metadata": {},
   "outputs": [],
   "source": [
    "X_train, y_train = load_from_tsfile_to_dataframe('data/Adiac/Adiac_TRAIN.ts')\n",
    "X_test, y_test = load_from_tsfile_to_dataframe('data/Adiac/Adiac_TEST.ts')"
   ]
  },
  {
   "cell_type": "markdown",
   "metadata": {},
   "source": [
    "### KNN"
   ]
  },
  {
   "cell_type": "code",
   "execution_count": 26,
   "metadata": {
    "scrolled": true
   },
   "outputs": [
    {
     "name": "stdout",
     "output_type": "stream",
     "text": [
      "Wall time: 1min 48s\n"
     ]
    },
    {
     "data": {
      "text/plain": [
       "0.5575447570332481"
      ]
     },
     "execution_count": 26,
     "metadata": {},
     "output_type": "execute_result"
    }
   ],
   "source": [
    "%%time\n",
    "clf_knn = KNeighborsTimeSeriesClassifier()\n",
    "parameters = {'n_neighbors':[2,3,4,5,10]}\n",
    "\n",
    "knn_grid = GridSearchCV(clf_knn , parameters)\n",
    "knn_grid.fit(X_train, y_train)\n",
    "knn_grid.best_params_['n_neighbors']\n",
    "\n",
    "k_opt = knn_grid.best_params_['n_neighbors']\n",
    "\n",
    "clf_knn = KNeighborsTimeSeriesClassifier(n_neighbors=k_opt, metric='dtw')\n",
    "clf_knn.fit(X_train, y_train) \n",
    "accu_knn = clf_knn.score(X_test, y_test)\n",
    "accu_knn"
   ]
  },
  {
   "cell_type": "markdown",
   "metadata": {},
   "source": [
    "### Bayesian KNN"
   ]
  },
  {
   "cell_type": "code",
   "execution_count": 31,
   "metadata": {},
   "outputs": [
    {
     "name": "stdout",
     "output_type": "stream",
     "text": [
      "Wall time: 50.7 s\n"
     ]
    },
    {
     "data": {
      "text/plain": [
       "0.5549872122762148"
      ]
     },
     "execution_count": 31,
     "metadata": {},
     "output_type": "execute_result"
    }
   ],
   "source": [
    "%%time\n",
    "clf_bknn = BayesianNeighborsTimeSeriesClassifier(metric='dtw', p_gamma = 1/8)\n",
    "clf_bknn.fit(X_train, y_train)\n",
    "accu_bknn = clf_bknn.score(X_test, y_test)\n",
    "accu_bknn"
   ]
  },
  {
   "cell_type": "markdown",
   "metadata": {},
   "source": [
    "# Epilepsy"
   ]
  },
  {
   "cell_type": "code",
   "execution_count": 13,
   "metadata": {
    "scrolled": true
   },
   "outputs": [],
   "source": [
    "X_train, y_train = load_from_tsfile_to_dataframe('data/Epilepsy/Epilepsy_TRAIN.ts')\n",
    "X_test, y_test = load_from_tsfile_to_dataframe('data/Epilepsy/Epilepsy_TEST.ts')\n",
    "\n",
    "X_train = X_train[['dim_0']]\n",
    "X_test = X_test[['dim_0']]"
   ]
  },
  {
   "cell_type": "markdown",
   "metadata": {},
   "source": [
    "### KNN"
   ]
  },
  {
   "cell_type": "code",
   "execution_count": 14,
   "metadata": {},
   "outputs": [
    {
     "name": "stdout",
     "output_type": "stream",
     "text": [
      "Wall time: 27 s\n"
     ]
    },
    {
     "data": {
      "text/plain": [
       "0.9565217391304348"
      ]
     },
     "execution_count": 14,
     "metadata": {},
     "output_type": "execute_result"
    }
   ],
   "source": [
    "%%time\n",
    "clf_knn = KNeighborsTimeSeriesClassifier()\n",
    "parameters = {'n_neighbors':[2,3,4,5,10]}\n",
    "\n",
    "knn_grid = GridSearchCV(clf_knn , parameters)\n",
    "knn_grid.fit(X_train, y_train)\n",
    "knn_grid.best_params_['n_neighbors']\n",
    "\n",
    "k_opt = knn_grid.best_params_['n_neighbors']\n",
    "\n",
    "clf_knn = KNeighborsTimeSeriesClassifier(n_neighbors=k_opt, metric='dtw')\n",
    "clf_knn.fit(X_train, y_train) \n",
    "accu_knn = clf_knn.score(X_test, y_test)\n",
    "accu_knn"
   ]
  },
  {
   "cell_type": "markdown",
   "metadata": {},
   "source": [
    "### Bayesian KNN"
   ]
  },
  {
   "cell_type": "code",
   "execution_count": 15,
   "metadata": {},
   "outputs": [
    {
     "name": "stdout",
     "output_type": "stream",
     "text": [
      "Wall time: 13.2 s\n"
     ]
    },
    {
     "data": {
      "text/plain": [
       "0.9637681159420289"
      ]
     },
     "execution_count": 15,
     "metadata": {},
     "output_type": "execute_result"
    }
   ],
   "source": [
    "%%time\n",
    "clf_bknn = BayesianNeighborsTimeSeriesClassifier()\n",
    "clf_bknn.fit(X_train, y_train)\n",
    "accu_bknn = clf_bknn.score(X_test, y_test)\n",
    "accu_bknn"
   ]
  }
 ],
 "metadata": {
  "kernelspec": {
   "display_name": "Python 3",
   "language": "python",
   "name": "python3"
  },
  "language_info": {
   "codemirror_mode": {
    "name": "ipython",
    "version": 3
   },
   "file_extension": ".py",
   "mimetype": "text/x-python",
   "name": "python",
   "nbconvert_exporter": "python",
   "pygments_lexer": "ipython3",
   "version": "3.7.4"
  }
 },
 "nbformat": 4,
 "nbformat_minor": 2
}
