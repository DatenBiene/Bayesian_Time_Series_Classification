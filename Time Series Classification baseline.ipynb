{
 "cells": [
  {
   "cell_type": "code",
   "execution_count": 44,
   "metadata": {},
   "outputs": [],
   "source": [
    "import pandas as pd\n",
    "import pyts\n",
    "\n",
    "%matplotlib inline "
   ]
  },
  {
   "cell_type": "markdown",
   "metadata": {},
   "source": [
    "# Data \n",
    "ECG200 https://timeseriesclassification.com/description.php?Dataset=ECG200\n",
    "\n",
    "pyts knn: https://pyts.readthedocs.io/en/latest/generated/pyts.classification.KNeighborsClassifier.html#"
   ]
  },
  {
   "cell_type": "code",
   "execution_count": 15,
   "metadata": {
    "scrolled": true
   },
   "outputs": [],
   "source": [
    "df_train = pd.read_csv('ECG200/csv_result-ECG200_TRAIN.csv').set_index('id')\n",
    "df_test = pd.read_csv('ECG200/csv_result-ECG200_TEST.csv').set_index('id')"
   ]
  },
  {
   "cell_type": "code",
   "execution_count": 36,
   "metadata": {},
   "outputs": [],
   "source": [
    "X_train = df_train.drop(['Unnamed: 97'], axis = 1).to_numpy()\n",
    "y_train = df_train['Unnamed: 97'].ravel()\n",
    "\n",
    "X_test = df_test.drop(['Unnamed: 97'], axis = 1).to_numpy()\n",
    "y_test = df_test['Unnamed: 97'].ravel()"
   ]
  },
  {
   "cell_type": "markdown",
   "metadata": {},
   "source": [
    "## KNN"
   ]
  },
  {
   "cell_type": "code",
   "execution_count": 52,
   "metadata": {
    "scrolled": true
   },
   "outputs": [
    {
     "name": "stdout",
     "output_type": "stream",
     "text": [
      "0.91\n"
     ]
    }
   ],
   "source": [
    "from pyts.classification import KNeighborsClassifier\n",
    "\n",
    "clf = KNeighborsClassifier(n_neighbors=2)\n",
    "clf.fit(X_train, y_train) # doctest: +ELLIPSIS\n",
    "print(clf.score(X_test, y_test))"
   ]
  },
  {
   "cell_type": "markdown",
   "metadata": {},
   "source": [
    "## SAXVSM"
   ]
  },
  {
   "cell_type": "code",
   "execution_count": 53,
   "metadata": {},
   "outputs": [
    {
     "data": {
      "text/plain": [
       "0.68"
      ]
     },
     "execution_count": 53,
     "metadata": {},
     "output_type": "execute_result"
    }
   ],
   "source": [
    "from pyts.classification import SAXVSM\n",
    "from pyts.datasets import load_gunpoint\n",
    "\n",
    "clf = SAXVSM(window_size=34, sublinear_tf=False, use_idf=False)\n",
    "clf.fit(X_train, y_train) # doctest: +ELLIPSIS\n",
    "\n",
    "clf.score(X_test, y_test)"
   ]
  },
  {
   "cell_type": "markdown",
   "metadata": {},
   "source": [
    "## Boss"
   ]
  },
  {
   "cell_type": "code",
   "execution_count": 54,
   "metadata": {},
   "outputs": [
    {
     "data": {
      "text/plain": [
       "0.75"
      ]
     },
     "execution_count": 54,
     "metadata": {},
     "output_type": "execute_result"
    }
   ],
   "source": [
    "from pyts.classification import BOSSVS\n",
    "from pyts.datasets import load_gunpoint\n",
    "\n",
    "clf = BOSSVS(window_size=48)\n",
    "clf.fit(X_train, y_train) # doctest: +ELLIPSIS\n",
    "\n",
    "clf.score(X_test, y_test)"
   ]
  }
 ],
 "metadata": {
  "kernelspec": {
   "display_name": "Python 3",
   "language": "python",
   "name": "python3"
  },
  "language_info": {
   "codemirror_mode": {
    "name": "ipython",
    "version": 3
   },
   "file_extension": ".py",
   "mimetype": "text/x-python",
   "name": "python",
   "nbconvert_exporter": "python",
   "pygments_lexer": "ipython3",
   "version": "3.7.4"
  }
 },
 "nbformat": 4,
 "nbformat_minor": 2
}
