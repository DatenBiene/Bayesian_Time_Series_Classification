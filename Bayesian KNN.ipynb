{
 "cells": [
  {
   "cell_type": "code",
   "execution_count": 1,
   "metadata": {},
   "outputs": [],
   "source": [
    "import warnings\n",
    "warnings.filterwarnings(\"ignore\")"
   ]
  },
  {
   "cell_type": "code",
   "execution_count": 2,
   "metadata": {},
   "outputs": [],
   "source": [
    "import numpy as np\n",
    "import pandas as pd\n",
    "\n",
    "import matplotlib.pyplot as plt\n",
    "from mpl_toolkits.axes_grid1 import make_axes_locatable\n",
    "import seaborn as sns; sns.set()\n",
    "\n",
    "from scipy.spatial import distance\n",
    "from fastdtw import fastdtw"
   ]
  },
  {
   "cell_type": "code",
   "execution_count": 3,
   "metadata": {},
   "outputs": [],
   "source": [
    "from sktime.utils.load_data import load_from_tsfile_to_dataframe\n",
    "\n",
    "X_train, y_train = load_from_tsfile_to_dataframe('data/ECG200/ECG200_TRAIN.ts')\n",
    "X_test, y_test = load_from_tsfile_to_dataframe('data/ECG200/ECG200_TEST.ts')"
   ]
  },
  {
   "cell_type": "markdown",
   "metadata": {},
   "source": [
    "# KNN"
   ]
  },
  {
   "cell_type": "code",
   "execution_count": 4,
   "metadata": {},
   "outputs": [
    {
     "name": "stdout",
     "output_type": "stream",
     "text": [
      "0.8\n"
     ]
    }
   ],
   "source": [
    "from sktime.classifiers.distance_based import KNeighborsTimeSeriesClassifier\n",
    "\n",
    "clf = KNeighborsTimeSeriesClassifier(n_neighbors=6, metric='dtw')\n",
    "clf.fit(X_train, y_train) # doctest: +ELLIPSIS\n",
    "print(clf.score(X_test, y_test))"
   ]
  },
  {
   "cell_type": "markdown",
   "metadata": {},
   "source": [
    "# Bayesian KNN"
   ]
  },
  {
   "cell_type": "code",
   "execution_count": 5,
   "metadata": {},
   "outputs": [
    {
     "data": {
      "text/plain": [
       "2"
      ]
     },
     "execution_count": 5,
     "metadata": {},
     "output_type": "execute_result"
    }
   ],
   "source": [
    "np.max([1,2])"
   ]
  },
  {
   "cell_type": "code",
   "execution_count": 6,
   "metadata": {},
   "outputs": [
    {
     "data": {
      "text/plain": [
       "BayesianNeighborsTimeSeriesClassifier(algorithm='brute',\n",
       "                                      metric=<built-in function dtw_distance>,\n",
       "                                      metric_params=None,\n",
       "                                      n_neighbors_bayes=None,\n",
       "                                      weights='uniform')"
      ]
     },
     "execution_count": 6,
     "metadata": {},
     "output_type": "execute_result"
    }
   ],
   "source": [
    "from BayKNN import BayesianNeighborsTimeSeriesClassifier\n",
    "\n",
    "clf = BayesianNeighborsTimeSeriesClassifier()\n",
    "clf.fit(X_test, y_train)\n",
    "#print(clf.score(X_test, y_test))"
   ]
  },
  {
   "cell_type": "code",
   "execution_count": 7,
   "metadata": {
    "scrolled": true
   },
   "outputs": [
    {
     "data": {
      "text/plain": [
       "[4,\n",
       " 4,\n",
       " 4,\n",
       " 4,\n",
       " 5,\n",
       " 4,\n",
       " 4,\n",
       " 4,\n",
       " 4,\n",
       " 4,\n",
       " 4,\n",
       " 8,\n",
       " 7,\n",
       " 4,\n",
       " 4,\n",
       " 4,\n",
       " 4,\n",
       " 3,\n",
       " 4,\n",
       " 1,\n",
       " 4,\n",
       " 4,\n",
       " 4,\n",
       " 4,\n",
       " 1,\n",
       " 10,\n",
       " 4,\n",
       " 4,\n",
       " 4,\n",
       " 4,\n",
       " 4,\n",
       " 4,\n",
       " 4,\n",
       " 4,\n",
       " 3,\n",
       " 4,\n",
       " 4,\n",
       " 4,\n",
       " 4,\n",
       " 4,\n",
       " 4,\n",
       " 1,\n",
       " 4,\n",
       " 4,\n",
       " 4,\n",
       " 4,\n",
       " 4,\n",
       " 4,\n",
       " 4,\n",
       " 4,\n",
       " 4,\n",
       " 4,\n",
       " 4,\n",
       " 4,\n",
       " 8,\n",
       " 4,\n",
       " 4,\n",
       " 4,\n",
       " 6,\n",
       " 4,\n",
       " 3,\n",
       " 4,\n",
       " 4,\n",
       " 4,\n",
       " 4,\n",
       " 4,\n",
       " 4,\n",
       " 4,\n",
       " 4,\n",
       " 4,\n",
       " 4,\n",
       " 4,\n",
       " 4,\n",
       " 4,\n",
       " 4,\n",
       " 4,\n",
       " 4,\n",
       " 4,\n",
       " 4,\n",
       " 4,\n",
       " 4,\n",
       " 4,\n",
       " 1,\n",
       " 4,\n",
       " 4,\n",
       " 4,\n",
       " 4,\n",
       " 4,\n",
       " 4,\n",
       " 4,\n",
       " 4,\n",
       " 8,\n",
       " 4,\n",
       " 4,\n",
       " 4,\n",
       " 4,\n",
       " 4,\n",
       " 4,\n",
       " 4,\n",
       " 4]"
      ]
     },
     "execution_count": 7,
     "metadata": {},
     "output_type": "execute_result"
    }
   ],
   "source": [
    "clf.predict(X_test)"
   ]
  },
  {
   "cell_type": "code",
   "execution_count": 8,
   "metadata": {},
   "outputs": [
    {
     "data": {
      "text/plain": [
       "array(['1', '1', '1', '1', '-1', '1', '1', '1', '1', '-1', '-1', '1',\n",
       "       '-1', '-1', '-1', '1', '1', '1', '-1', '1', '-1', '1', '1', '1',\n",
       "       '1', '1', '-1', '1', '-1', '1', '1', '1', '-1', '-1', '1', '1',\n",
       "       '1', '1', '-1', '-1', '1', '1', '-1', '1', '1', '1', '1', '1', '1',\n",
       "       '1', '1', '-1', '-1', '-1', '-1', '-1', '1', '-1', '-1', '-1',\n",
       "       '-1', '1', '1', '-1', '-1', '-1', '1', '1', '1', '1', '1', '1',\n",
       "       '1', '1', '1', '-1', '1', '1', '1', '1', '1', '-1', '1', '1', '-1',\n",
       "       '-1', '-1', '-1', '1', '1', '1', '-1', '1', '1', '1', '1', '1',\n",
       "       '-1', '-1', '1'], dtype='<U2')"
      ]
     },
     "execution_count": 8,
     "metadata": {},
     "output_type": "execute_result"
    }
   ],
   "source": [
    "y_test"
   ]
  },
  {
   "cell_type": "markdown",
   "metadata": {},
   "source": [
    "Finctio"
   ]
  },
  {
   "cell_type": "code",
   "execution_count": 9,
   "metadata": {},
   "outputs": [],
   "source": [
    "def get_bayesian_k_posteriori(y_ordered, eta_prior = None, p_gamma = 1/20):\n",
    "    classes, y_pos = np.unique(y_ordered, return_inverse=True)\n",
    "    tau = len(y_pos)\n",
    "    pi = np.zeros(tau)\n",
    "\n",
    "    growth_prop_1 = np.ones(tau + 1)\n",
    "    growth_prop_2 = np.zeros(tau + 1)\n",
    "    nb_classes = len(classes)\n",
    "\n",
    "    p_gamma = p_gamma\n",
    "\n",
    "    if eta_prior is None :\n",
    "        eta = np.array([10]*nb_classes)\n",
    "    else :\n",
    "        eta = eta_prior\n",
    "\n",
    "    s_alpha_prior = np.sum(eta)\n",
    "\n",
    "\n",
    "    for t in range(tau):\n",
    "        y_t = y_pos[t] # will also be the indice of the corresponding alpha in eta\n",
    "\n",
    "        for i in range(t+1):\n",
    "            k_tempo = i\n",
    "            pi[i] = (eta[y_t] + np.sum((y_pos[:i] == 0)*1))/(s_alpha_prior +i) # pas sur des bornes\n",
    "\n",
    "            growth_prop_2[i + 1] = growth_prop_1[i]*pi[i]*(1-p_gamma)\n",
    "\n",
    "        pi[0] = eta[y_t]/s_alpha_prior\n",
    "        growth_prop_2[0] = np.sum(growth_prop_1)*pi[0]*p_gamma\n",
    "\n",
    "        p_evidence = np.sum(growth_prop_2)\n",
    "\n",
    "        growth_prop_1 = growth_prop_2/p_evidence\n",
    "        growth_prop_2 = np.zeros(tau + 1)\n",
    "\n",
    "    return growth_prop_1\n"
   ]
  },
  {
   "cell_type": "code",
   "execution_count": 10,
   "metadata": {},
   "outputs": [],
   "source": [
    "jj = get_bayesian_k_posteriori(y_train)"
   ]
  },
  {
   "cell_type": "code",
   "execution_count": 11,
   "metadata": {},
   "outputs": [
    {
     "data": {
      "text/plain": [
       "[<matplotlib.lines.Line2D at 0x1805e2c2248>]"
      ]
     },
     "execution_count": 11,
     "metadata": {},
     "output_type": "execute_result"
    },
    {
     "data": {
      "image/png": "[encoded data removed]",
      "text/plain": [
       "<Figure size 432x288 with 1 Axes>"
      ]
     },
     "metadata": {
      "needs_background": "light"
     },
     "output_type": "display_data"
    }
   ],
   "source": [
    "plt.plot(jj)"
   ]
  },
  {
   "cell_type": "code",
   "execution_count": null,
   "metadata": {},
   "outputs": [],
   "source": []
  }
 ],
 "metadata": {
  "kernelspec": {
   "display_name": "Python 3",
   "language": "python",
   "name": "python3"
  },
  "language_info": {
   "codemirror_mode": {
    "name": "ipython",
    "version": 3
   },
   "file_extension": ".py",
   "mimetype": "text/x-python",
   "name": "python",
   "nbconvert_exporter": "python",
   "pygments_lexer": "ipython3",
   "version": "3.7.4"
  }
 },
 "nbformat": 4,
 "nbformat_minor": 2
}
