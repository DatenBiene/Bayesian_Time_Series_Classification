{
 "cells": [
  {
   "cell_type": "code",
   "execution_count": 1,
   "metadata": {},
   "outputs": [],
   "source": [
    "import numpy as np\n",
    "import matplotlib.pyplot as plt"
   ]
  },
  {
   "cell_type": "code",
   "execution_count": 2,
   "metadata": {},
   "outputs": [],
   "source": [
    "import numba\n",
    "from numba import jit"
   ]
  },
  {
   "cell_type": "code",
   "execution_count": 3,
   "metadata": {},
   "outputs": [],
   "source": [
    "def get_bayesian_k_posteriori(y_ordered, eta_prior = None, p_gamma = 1/5):\n",
    "    classes, y_pos = np.unique(y_ordered, return_inverse=True)\n",
    "    tau = len(y_pos)\n",
    "    pi = np.zeros(tau)\n",
    "\n",
    "    growth_prop_1 = np.ones(tau + 1)\n",
    "    growth_prop_2 = np.zeros(tau + 1)\n",
    "    nb_classes = len(classes)\n",
    "\n",
    "    if eta_prior is None :\n",
    "        eta = np.array([10]*nb_classes)\n",
    "    else :\n",
    "        eta = eta_prior\n",
    "\n",
    "    s_alpha_prior = np.sum(eta)\n",
    "\n",
    "    for t in range(tau):\n",
    "        y_t = y_pos[t] # will also be the indice of the corresponding alpha in eta\n",
    "\n",
    "        for i in range(t+1):\n",
    "            k_tempo = i\n",
    "            pi[i] = (eta[y_t] + np.sum((y_pos[:i] == y_t)*1))/(s_alpha_prior +i) # pas sur des bornes\n",
    "\n",
    "            growth_prop_2[i + 1] = growth_prop_1[i]*pi[i]*(1-p_gamma)\n",
    "\n",
    "        pi[0] = eta[y_t]/s_alpha_prior\n",
    "        growth_prop_2[0] = np.sum(growth_prop_1)*pi[0]*p_gamma\n",
    "\n",
    "        p_evidence = np.sum(growth_prop_2)\n",
    "\n",
    "        growth_prop_1 = growth_prop_2/p_evidence\n",
    "        growth_prop_2 = np.zeros(tau + 1)\n",
    "\n",
    "    return growth_prop_1\n"
   ]
  },
  {
   "cell_type": "code",
   "execution_count": 4,
   "metadata": {},
   "outputs": [],
   "source": [
    "@jit(nopython=True)\n",
    "def get_bayesian_k_posteriori_jit(classes, y_pos, eta_prior = None, p_gamma = 1/5):\n",
    "    tau = len(y_pos)\n",
    "    pi = np.zeros(tau)\n",
    "\n",
    "    growth_prop_1 = np.ones(tau + 1)\n",
    "    growth_prop_2 = np.zeros(tau + 1)\n",
    "    nb_classes = len(classes)\n",
    "\n",
    "    if eta_prior is None :\n",
    "        eta = np.array([10]*nb_classes)\n",
    "    else :\n",
    "        eta = eta_prior\n",
    "\n",
    "    s_alpha_prior = np.sum(eta)\n",
    "\n",
    "    for t in range(tau):\n",
    "        y_t = y_pos[t] # will also be the indice of the corresponding alpha in eta\n",
    "\n",
    "        for i in range(t+1):\n",
    "            k_tempo = i\n",
    "            pi[i] = (eta[y_t] + np.sum((y_pos[:i] == y_t)*1))/(s_alpha_prior +i) # pas sur des bornes\n",
    "\n",
    "            growth_prop_2[i + 1] = growth_prop_1[i]*pi[i]*(1-p_gamma)\n",
    "\n",
    "        pi[0] = eta[y_t]/s_alpha_prior\n",
    "        growth_prop_2[0] = np.sum(growth_prop_1)*pi[0]*p_gamma\n",
    "\n",
    "        p_evidence = np.sum(growth_prop_2)\n",
    "\n",
    "        growth_prop_1 = growth_prop_2/p_evidence\n",
    "        growth_prop_2 = np.zeros(tau + 1)\n",
    "\n",
    "    return growth_prop_1\n"
   ]
  },
  {
   "cell_type": "code",
   "execution_count": 5,
   "metadata": {},
   "outputs": [],
   "source": [
    "y = np.random.randint(8, size=4000)"
   ]
  },
  {
   "cell_type": "code",
   "execution_count": 6,
   "metadata": {
    "scrolled": false
   },
   "outputs": [
    {
     "name": "stdout",
     "output_type": "stream",
     "text": [
      "Wall time: 4min 25s\n"
     ]
    }
   ],
   "source": [
    "%%time\n",
    "g = get_bayesian_k_posteriori(y)"
   ]
  },
  {
   "cell_type": "code",
   "execution_count": 7,
   "metadata": {
    "scrolled": true
   },
   "outputs": [
    {
     "name": "stdout",
     "output_type": "stream",
     "text": [
      "Wall time: 12.2 s\n"
     ]
    }
   ],
   "source": [
    "%%time\n",
    "classes, y_pos = np.unique(y, return_inverse=True)\n",
    "g = get_bayesian_k_posteriori_jit(classes, y_pos)"
   ]
  },
  {
   "cell_type": "code",
   "execution_count": 8,
   "metadata": {},
   "outputs": [
    {
     "data": {
      "text/plain": [
       "[<matplotlib.lines.Line2D at 0x226be511688>]"
      ]
     },
     "execution_count": 8,
     "metadata": {},
     "output_type": "execute_result"
    },
    {
     "data": {
      "image/png": "[encoded data removed]",
      "text/plain": [
       "<Figure size 432x288 with 1 Axes>"
      ]
     },
     "metadata": {
      "needs_background": "light"
     },
     "output_type": "display_data"
    }
   ],
   "source": [
    "plt.plot(g)"
   ]
  },
  {
   "cell_type": "code",
   "execution_count": 9,
   "metadata": {
    "scrolled": true
   },
   "outputs": [
    {
     "data": {
      "text/plain": [
       "3"
      ]
     },
     "execution_count": 9,
     "metadata": {},
     "output_type": "execute_result"
    }
   ],
   "source": [
    "int(np.sum(np.array(range(len(g)))*g))"
   ]
  },
  {
   "cell_type": "code",
   "execution_count": 10,
   "metadata": {},
   "outputs": [
    {
     "data": {
      "text/plain": [
       "1"
      ]
     },
     "execution_count": 10,
     "metadata": {},
     "output_type": "execute_result"
    }
   ],
   "source": [
    "np.max([np.argmax(g), 1])"
   ]
  },
  {
   "cell_type": "code",
   "execution_count": null,
   "metadata": {},
   "outputs": [],
   "source": []
  },
  {
   "cell_type": "code",
   "execution_count": null,
   "metadata": {},
   "outputs": [],
   "source": []
  }
 ],
 "metadata": {
  "kernelspec": {
   "display_name": "Python 3",
   "language": "python",
   "name": "python3"
  },
  "language_info": {
   "codemirror_mode": {
    "name": "ipython",
    "version": 3
   },
   "file_extension": ".py",
   "mimetype": "text/x-python",
   "name": "python",
   "nbconvert_exporter": "python",
   "pygments_lexer": "ipython3",
   "version": "3.7.4"
  }
 },
 "nbformat": 4,
 "nbformat_minor": 2
}
